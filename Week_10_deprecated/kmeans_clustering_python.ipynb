{
 "cells": [
  {
   "cell_type": "code",
   "execution_count": 1,
   "metadata": {},
   "outputs": [],
   "source": [
    "# K-MEANS CLUSTERING IN PYTHON\n",
    "\n",
    "# The following lines import the necessary packages. You can ignore them.\n",
    "import matplotlib.pyplot as plt # For plotting\n",
    "import numpy as np              # For working with numerical data\n",
    "import sklearn.cluster as sklc  # For clustering\n",
    "import sklearn.metrics as sklm  # For the silhouette score\n",
    "\n",
    "\n",
    "# This program performs a k-means clustering on data stored in a csv file,\n",
    "\n",
    "# The data file must be two columns of numbers, the x values and y values - no column labels, etc.\n",
    "# It must be saved as a csv file (e.g. use \"Save As\" in Excel and choose csv format).\n",
    "# It must be saved in the same folder as this program.\n",
    "# See the file clustering_example_data.csv for reference.\n",
    "\n",
    "# [Actually, the file can have more than two columns. The clustering works for data with many fields.\n",
    "# However, it will only plot the first two columns against each other, for obvious reasons.]\n",
    "\n",
    "# This program plots:\n",
    "#   - A scatter plot of all the data, unclustered;\n",
    "#   - A scatter plot of each cluster separately;\n",
    "#   - A scatter plot of all the data, coloured by cluster.\n",
    "# All of these plots are saved to your computer, in the same folder as this Python file.\n",
    "\n",
    "# This program also saves a csv file of the original data, with an extra column,...\n",
    "# indicating which cluster each point has been assigned to.\n",
    "\n",
    "# The program also prints the silhouette score for your clustering...\n",
    "# This is a measure of how well the data is clustered, from -1 (extremely poor) to 1 (extremely strong)."
   ]
  },
  {
   "cell_type": "code",
   "execution_count": 2,
   "metadata": {},
   "outputs": [],
   "source": [
    "# SET THE FOLLOWING VARIABLES TO CONTROL HOW THE PROGRAM FUNCTIONS:\n",
    "\n",
    "# CLUSTERING VARIABLES\n",
    "\n",
    "# This line sets the number of clusters you want to find:\n",
    "num_clusters = 2\n",
    "# [Note that this program only plots in 7 different colours,...\n",
    "# if you have more clusters, they will not all be distint in the final figure.]\n",
    "\n",
    "# FILENAMES\n",
    "\n",
    "# In the next line, replace clustering_example_data.csv with the filename of your data:\n",
    "data_filename = 'clustering_example_data_simple.csv'"
   ]
  },
  {
   "cell_type": "code",
   "execution_count": 8,
   "metadata": {},
   "outputs": [
    {
     "name": "stdout",
     "output_type": "stream",
     "text": [
      "[[10.4 13. ]\n",
      " [11.6 11.4]\n",
      " [ 5.6 10.7]\n",
      " [ 6.8 13. ]\n",
      " [11.5 10.5]\n",
      " [ 5.8  9.4]\n",
      " [ 9.9 10.8]]\n"
     ]
    }
   ],
   "source": [
    "# The next line imports the data:\n",
    "data = np.genfromtxt(data_filename,delimiter = ',')\n",
    "\n",
    "#You can print it to have a look if you want:\n",
    "print(data)"
   ]
  },
  {
   "cell_type": "code",
   "execution_count": 4,
   "metadata": {},
   "outputs": [],
   "source": [
    "# FIGURE PARAMETERS\n",
    "\n",
    "# Use the next line to set figure height and width (experiment to check the scale):\n",
    "figure_width, figure_height = 7,7\n",
    "\n",
    "# These lines set the figure title and axis labels and the font sizes:\n",
    "fig_title = 'Figure Title'\n",
    "x_label   = 'x-axis label'\n",
    "y_label   = 'y-axis label'\n",
    "title_fontsize = 15\n",
    "label_fontsize = 10\n",
    "\n",
    "# These lines set the limits of the x and y axes, so that all plots are on the same scale.\n",
    "x_min, x_max = 0.5*np.min(data[:,0]), 1.1*np.max(data[:,0])\n",
    "y_min, y_max = 0.5*np.min(data[:,1]), 1.1*np.max(data[:,1])\n",
    "\n",
    "\n",
    "# This is a function that sets up each figure's x-limits and y-limits and axis labels.\n",
    "\n",
    "def setup_figure():\n",
    "    \n",
    "    plt.xlim([x_min, x_max])\n",
    "    plt.ylim([y_min, y_max])\n",
    "    plt.xlabel(x_label,fontsize=label_fontsize)\n",
    "    plt.ylabel(y_label,fontsize=label_fontsize)\n"
   ]
  },
  {
   "cell_type": "code",
   "execution_count": 5,
   "metadata": {},
   "outputs": [
    {
     "data": {
      "text/plain": [
       "[<matplotlib.lines.Line2D at 0x7fc0417d24f0>]"
      ]
     },
     "execution_count": 5,
     "metadata": {},
     "output_type": "execute_result"
    },
    {
     "data": {
      "image/png": "[encoded data removed]",
      "text/plain": [
       "<Figure size 504x504 with 1 Axes>"
      ]
     },
     "metadata": {
      "needs_background": "light"
     },
     "output_type": "display_data"
    }
   ],
   "source": [
    "#Let's have a little look at our data from the off. \n",
    "\n",
    "#First extract the x and y values from the data:\n",
    "x_values = data[:,0]\n",
    "y_values = data[:,1]\n",
    "\n",
    "#And then a cheeky plot:\n",
    "plt.figure(0,figsize=(figure_width,figure_height))\n",
    "setup_figure()\n",
    "plt.xlabel(x_label,fontsize=label_fontsize)\n",
    "plt.ylabel(y_label,fontsize=label_fontsize)\n",
    "plt.title(fig_title,fontsize=title_fontsize)\n",
    "plt.plot(x_values,y_values, 'k.')"
   ]
  },
  {
   "cell_type": "code",
   "execution_count": 6,
   "metadata": {},
   "outputs": [
    {
     "name": "stdout",
     "output_type": "stream",
     "text": [
      "KMeans(n_clusters=2, n_init=1)\n"
     ]
    }
   ],
   "source": [
    "# PERFORM CLUSTERING\n",
    "\n",
    "# This line performs the k-means clustering:\n",
    "kmeans_output = sklc.KMeans(n_clusters=num_clusters, n_init=1).fit(data)\n",
    "\n",
    "#And have a look as a sanity check\n",
    "print(kmeans_output)                                                "
   ]
  },
  {
   "cell_type": "code",
   "execution_count": 7,
   "metadata": {},
   "outputs": [
    {
     "name": "stdout",
     "output_type": "stream",
     "text": [
      "[0 0 1 1 0 1 0]\n"
     ]
    }
   ],
   "source": [
    "# This line creates a list giving the final cluster number of each point:\n",
    "clustering_ids_kmeans = kmeans_output.labels_\n",
    "\n",
    "#Which we can now look at\n",
    "print(clustering_ids_kmeans)"
   ]
  },
  {
   "cell_type": "code",
   "execution_count": 9,
   "metadata": {},
   "outputs": [
    {
     "name": "stdout",
     "output_type": "stream",
     "text": [
      "[[10.4 13.   0. ]\n",
      " [11.6 11.4  0. ]\n",
      " [ 5.6 10.7  1. ]\n",
      " [ 6.8 13.   1. ]\n",
      " [11.5 10.5  0. ]\n",
      " [ 5.8  9.4  1. ]\n",
      " [ 9.9 10.8  0. ]]\n"
     ]
    }
   ],
   "source": [
    "#That's just an ordered list of labels, which could be more helpful if they were attached to the data points. \n",
    "\n",
    "# These lines add the cluster IDs to the original data and save the data with these added cluster IDs.\n",
    "complete_data_with_clusters = np.hstack((data,np.array([clustering_ids_kmeans]).T))\n",
    "\n",
    "#Have a look at the result:\n",
    "print(complete_data_with_clusters)"
   ]
  },
  {
   "cell_type": "code",
   "execution_count": 10,
   "metadata": {},
   "outputs": [
    {
     "data": {
      "text/plain": [
       "[array([[10.4, 13. ,  0. ],\n",
       "        [11.6, 11.4,  0. ],\n",
       "        [11.5, 10.5,  0. ],\n",
       "        [ 9.9, 10.8,  0. ]]),\n",
       " array([[ 5.6, 10.7,  1. ],\n",
       "        [ 6.8, 13. ,  1. ],\n",
       "        [ 5.8,  9.4,  1. ]])]"
      ]
     },
     "execution_count": 10,
     "metadata": {},
     "output_type": "execute_result"
    }
   ],
   "source": [
    "#Now, it would be handy to separate out our data so we have a list of the points within each cluster.  \n",
    "\n",
    "# The loop below creates a separate data array for each cluster, and puts these arrays together in a list:\n",
    "data_by_cluster = []\n",
    "\n",
    "for i in range(num_clusters):\n",
    "    \n",
    "    this_data = []\n",
    "    \n",
    "    for row in complete_data_with_clusters:\n",
    "        \n",
    "        if row[-1] == i:\n",
    "            this_data.append(row)\n",
    "    \n",
    "    this_data = np.array(this_data)\n",
    "    \n",
    "    data_by_cluster.append(this_data)\n",
    "    \n",
    "#Which gives the following:\n",
    "data_by_cluster"
   ]
  },
  {
   "cell_type": "code",
   "execution_count": 11,
   "metadata": {},
   "outputs": [
    {
     "data": {
      "image/png": "[encoded data removed]",
      "text/plain": [
       "<Figure size 504x504 with 1 Axes>"
      ]
     },
     "metadata": {
      "needs_background": "light"
     },
     "output_type": "display_data"
    },
    {
     "data": {
      "image/png": "[encoded data removed]",
      "text/plain": [
       "<Figure size 504x504 with 1 Axes>"
      ]
     },
     "metadata": {
      "needs_background": "light"
     },
     "output_type": "display_data"
    }
   ],
   "source": [
    "#Lovely! Now let's have a look at those clusters:\n",
    "# FIGURES 1-N : SEPARATE CLUSTER PLOTS\n",
    "\n",
    "# This is a list of colours to differentiate each cluster.\n",
    "color_list = ['b','r','g','m','c','k','y']\n",
    "\n",
    "# This loop goes through each cluster, plots it and saves it:\n",
    "for i in range(num_clusters):\n",
    "    \n",
    "    plt.figure(i+1,figsize=(figure_width,figure_height))\n",
    "    setup_figure()\n",
    "    plt.title(fig_title + ' - Cluster ' + str(i),fontsize=title_fontsize)\n",
    "    \n",
    "    x_values = data_by_cluster[i][:,0]\n",
    "    y_values = data_by_cluster[i][:,1]\n",
    "    \n",
    "    plt.plot(x_values,y_values,color_list[i % num_clusters] + '.')"
   ]
  },
  {
   "cell_type": "code",
   "execution_count": 12,
   "metadata": {},
   "outputs": [
    {
     "data": {
      "image/png": "[encoded data removed]",
      "text/plain": [
       "<Figure size 504x504 with 1 Axes>"
      ]
     },
     "metadata": {
      "needs_background": "light"
     },
     "output_type": "display_data"
    }
   ],
   "source": [
    "#Might be nice to have those on the same plot though.\n",
    "# FIGURE N + 1 : COMBINED CLUSTER PLOT\n",
    "\n",
    "# These lines create a plot with all the data points, coloured by cluster.\n",
    "plt.figure(num_clusters + 1,figsize=(figure_width,figure_height))\n",
    "setup_figure()\n",
    "plt.title(fig_title + ' - Coloured by Cluster',fontsize=title_fontsize)\n",
    "\n",
    "for i in range(num_clusters):\n",
    "    \n",
    "    x_values = data_by_cluster[i][:,0]\n",
    "    y_values = data_by_cluster[i][:,1]\n",
    "    \n",
    "    plt.plot(x_values,y_values,color_list[i % num_clusters] + '.')"
   ]
  },
  {
   "cell_type": "code",
   "execution_count": 13,
   "metadata": {},
   "outputs": [
    {
     "name": "stdout",
     "output_type": "stream",
     "text": [
      "Silhouette Score: 0.5651142730328408\n"
     ]
    }
   ],
   "source": [
    "# SILHOUETTE SCORE\n",
    "\n",
    "# These lines calculate the silhouette score...\n",
    "silhouette_kmeans = sklm.silhouette_score(data,clustering_ids_kmeans)\n",
    "\n",
    "# ... and print it:\n",
    "print(\"Silhouette Score:\", silhouette_kmeans)\n"
   ]
  }
 ],
 "metadata": {
  "kernelspec": {
   "display_name": "Python 3 (ipykernel)",
   "language": "python",
   "name": "python3"
  },
  "language_info": {
   "codemirror_mode": {
    "name": "ipython",
    "version": 3
   },
   "file_extension": ".py",
   "mimetype": "text/x-python",
   "name": "python",
   "nbconvert_exporter": "python",
   "pygments_lexer": "ipython3",
   "version": "3.9.7"
  },
  "toc": {
   "base_numbering": 1,
   "nav_menu": {},
   "number_sections": true,
   "sideBar": true,
   "skip_h1_title": false,
   "title_cell": "Table of Contents",
   "title_sidebar": "Contents",
   "toc_cell": false,
   "toc_position": {},
   "toc_section_display": true,
   "toc_window_display": false
  }
 },
 "nbformat": 4,
 "nbformat_minor": 4
}
